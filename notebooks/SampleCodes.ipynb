{
 "cells": [
  {
   "cell_type": "markdown",
   "metadata": {},
   "source": [
    "This document is based on the original [BioJava in Anger](http://www.biojava.org/docs/bj_in_anger/) by Mark Schreiber et al. \"BioJava in Anger, A Tutorial and Recipe Book for Those in a Hurry\"."
   ]
  },
  {
   "cell_type": "markdown",
   "metadata": {},
   "source": [
    "# Introduction\n",
    "\n",
    "BioRuby can be both big and intimidating. For those of us who are in a hurry there really is a whole lot there to get your head around. This document is designed to help you develop BioRuby programs that do 99% of common tasks without needing to read and understand 99% of the BioRuby API.\n",
    "The page was inspired by various programming cookbooks and follows a \"How do I...?\" type approach. Each How do I is linked to some example code that does what you want and sometimes more. Basically if you find the code you want and copy and paste it into your program you should be up and running quickly. I have endeavoured to over document the code to make it more obvious what I am doing so some of the code might look a bit bloated.\n",
    "'BioRuby in Anger' is maintained by Toshiaki Katayama and Pjotr Prins. If you have any suggestions, questions or comments contact the BioRuby mailing list."
   ]
  },
  {
   "cell_type": "markdown",
   "metadata": {},
   "source": [
    "# Alphabets and Symbols"
   ]
  },
  {
   "cell_type": "markdown",
   "metadata": {},
   "source": [
    "In BioRuby, Sequence class inherits String so you can treat Sequence object as a String with various powerful methods implemented in Ruby's String class. You can easily generate DNA and/or Amino Acid sequences to edit, extract subsequence, regexp pattern match on it with usual methods for String object. Sequence class also has methods for splicing, translation, calculate stastical values, window search etc.\n",
    "There are nothing equivarent to BioJava's Alphabet and/or Symbols in BioRuby, however, BioRuby provides lists of nucleic acids, amino acids and codon tables and use it transparently in appropreate methods?as needed."
   ]
  },
  {
   "cell_type": "markdown",
   "metadata": {},
   "source": [
    "## How can I make an ambiguous Symbol like Y or R?"
   ]
  },
  {
   "cell_type": "markdown",
   "metadata": {},
   "source": [
    "The IBU defines standard codes for symbols that are ambiguous such as Y to indicate C or T and R to indicate G or C or N to indicate any nucleotide. BioRuby represents these symbols as the same Bio::Sequence::NA object which can be easily converted to Regular expression that matches components of the ambiguous symbols. In turn, Bio::Sequence::NA object can contain symbols matching one or more component symbols that are valid members of the same alphabet as the Bio::Sequence::NA and are therefore capable of being ambiguous.\n",
    "Generally an ambiguity symbol is converted to a Regexp object by calling the to_re method from the Bio::Sequence::NA that contains the symbol itself. You don't need to make symbol 'Y' by yourself because it is already built in the Bio::NucleicAcid class as a hash named Bio::NucleicAcid::Names."
   ]
  },
  {
   "cell_type": "code",
   "execution_count": 1,
   "metadata": {
    "collapsed": false
   },
   "outputs": [
    {
     "name": "stdout",
     "output_type": "stream",
     "text": [
      "\"atgcyrwskmbdhvn\"\n",
      "Bio::Sequence::NA\n",
      "/atgc[tcy][agr][atw][gcs][tgk][acm][tgcyskb][atgrwkd][atcwmyh][agcmrsv][atgcyrwskmbdhvn]/\n",
      "Regexp\n",
      "match\n",
      "match, too\n",
      "also match\n"
     ]
    }
   ],
   "source": [
    "require 'bio'\n",
    " \n",
    "# creating a Bio::Sequence::NA object containing ambiguous alphabets\n",
    "ambiguous_seq = Bio::Sequence::NA.new(\"atgcyrwskmbdhvn\")\n",
    " \n",
    "# show the contents and class of the DNA sequence object\n",
    "p ambiguous_seq              # => \"atgcyrwskmbdhvn\"\n",
    "p ambiguous_seq.class        # => Bio::Sequence::NA\n",
    " \n",
    "# convert the sequence to a Regexp object\n",
    "p ambiguous_seq.to_re        # => /atgc[tc][ag][at][gc][tg][ac][tgc][atg][atc][agc][atgc]/\n",
    "p ambiguous_seq.to_re.class  # => Regexp\n",
    " \n",
    "# example to match an ambiguous sequence to the rigid sequence\n",
    "att_or_atc = Bio::Sequence::NA.new(\"aty\").to_re\n",
    "puts \"match\" if att_or_atc.match(Bio::Sequence::NA.new(\"att\"))\n",
    "puts \"match, too\" if Bio::Sequence::NA.new(\"att\").match(att_or_atc)\n",
    "if Bio::Sequence::NA.new(\"atc\") =~ att_or_atc\n",
    "  puts \"also match\"\n",
    "end"
   ]
  },
  {
   "cell_type": "markdown",
   "metadata": {},
   "source": [
    "# Basic Sequence Manipulation\n",
    "## How do I make a Sequence from a String or make a Sequence Object back into a String?\n",
    "\n",
    "A lot of the time we see sequence represented as a String of characters eg \"atgccgtggcatcgaggcatatagc\". It's a convenient method for viewing and succinctly representing a more complex biological polymer. BioRuby makes use of a Ruby's String class to represent these biological polymers as Objects. Unlike BioJava's SymbolList, BioRuby's Bio::Sequence inherits String and provide extra methods for the sequence manipulation. We don't have a container class like a BioJava's Sequence class, to store things like the name of the sequence and any features it might have, you can think of to use other container classes such as a Bio::FastaFormat, Bio::GFF, Bio::Features etc. for now (We have a plan to prepare a general container class for this to be compatible with a Sequence class in other Open Bio* projects).\n",
    "Bio::Sequence class has same capability as a Ruby's String class, it is simple easy to use. You can represent a DNA sequence within the Bio::Sequence::NA class and a protein sequence within the Bio::Sequence::AA class. You can translate DNA sequence into protein sequence with a single method call and can concatenate them with the same method '+' as a String class's.\n",
    "\n",
    "### String to Bio::Sequence object\n",
    "Simply pass the sequence string to the constructor."
   ]
  },
  {
   "cell_type": "code",
   "execution_count": 2,
   "metadata": {
    "collapsed": false
   },
   "outputs": [
    {
     "name": "stdout",
     "output_type": "stream",
     "text": [
      "[]\n",
      "AGFAVENDSAIGRL\n"
     ]
    }
   ],
   "source": [
    "require 'bio'\n",
    " \n",
    "# create a DNA sequence object from a String\n",
    "dna = Bio::Sequence::NA.new(\"atcggtcggctta\")\n",
    " \n",
    "# create a RNA sequence object from a String\n",
    "rna = Bio::Sequence::NA.new(\"auugccuacauaggc\")\n",
    " \n",
    "# create a Protein sequence from a String\n",
    "aa = Bio::Sequence::AA.new(\"AGFAVENDSA\")\n",
    " \n",
    "# you can check if the sequence contains illegal characters\n",
    "# that is not an accepted IUB character for that symbol\n",
    "# (should prepare a Bio::Sequence::AA#illegal_symbols method also)\n",
    "puts dna.illegal_bases\n",
    " \n",
    "# translate and concatenate a DNA sequence to Protein sequence\n",
    "newseq = aa + dna.translate\n",
    "puts newseq      # => \"AGFAVENDSAIGRL\""
   ]
  },
  {
   "cell_type": "markdown",
   "metadata": {},
   "source": [
    "### String to Sequence with comments\n",
    "Yes, we should prepare a better container class for this. Temporally, you can do this as:"
   ]
  },
  {
   "cell_type": "code",
   "execution_count": 3,
   "metadata": {
    "collapsed": false
   },
   "outputs": [
    {
     "name": "stdout",
     "output_type": "stream",
     "text": [
      "dna_1\n",
      "atgctg\n"
     ]
    }
   ],
   "source": [
    "require 'bio'\n",
    " \n",
    "# store a DNA sequence with the name dna_1 in a Bio::FastaFormat object\n",
    "dna = Bio::Sequence::NA.new(\"atgctg\").to_fasta(\"dna_1\")\n",
    " \n",
    "# store a RNA sequence with the name rna_1 in a Bio::FastaFormat object\n",
    "rna = Bio::Sequence::NA.new(\"augcug\").to_fasta(\"rna_1\")\n",
    " \n",
    "# store a Protein sequence with the name prot_1 in a Bio::FastaFormat object\n",
    "prot = Bio::Sequence::AA.new(\"AFHS\").to_fasta(\"prot_1\")\n",
    " \n",
    "# you can extract a name and a sequence stored in a Bio::FastaFormat object.\n",
    "fasta_seq = Bio::FastaFormat.new(dna)\n",
    "puts fasta_seq.entry_id  # => \"dna_1\"\n",
    "puts fasta_seq.naseq     # => \"atgctg\""
   ]
  },
  {
   "cell_type": "markdown",
   "metadata": {},
   "source": [
    "### Bio::Sequence to String\n",
    "You don't need to call any method to convert a Bio::Sequence object to use as a String object because it can behave as a String, although you can call a to_s method to stringify explicitly."
   ]
  },
  {
   "cell_type": "code",
   "execution_count": 4,
   "metadata": {
    "collapsed": false
   },
   "outputs": [
    {
     "name": "stdout",
     "output_type": "stream",
     "text": [
      "atgc\n",
      "atgc\n"
     ]
    }
   ],
   "source": [
    "# you can use Bio::Sequence object as a String object to print, seamlessly\n",
    "dna = Bio::Sequence::NA.new(\"atgc\")\n",
    "puts dna        # => \"atgc\"\n",
    "str = dna.to_s\n",
    "puts str        # => \"atgc\""
   ]
  },
  {
   "cell_type": "markdown",
   "metadata": {},
   "source": [
    "## How do I get a subsection of a Sequence?\n",
    "Given a Sequence object we might only be interested in examining the first 10 bases or we might want to get a region between two points. You might also want to print a subsequence to a file or to STDOUT how could you do this?\n",
    "BioRuby partly uses a biological coordinate system for identifying bases. You can use Bio::Sequence#subseq method to extract subsequence as the first base is numbered 1 and the last base index is equal to the length of the sequence. Other methods that are inherited from a String class use a normal String indexing which starts at 0 and proceedes to length -1. If you attempt to access a region outside of 1..length with a subseq method nil will be returned. Other methods in a String class will behave as a same.\n",
    "\n",
    "### Getting a Subsequence"
   ]
  },
  {
   "cell_type": "code",
   "execution_count": 5,
   "metadata": {
    "collapsed": false
   },
   "outputs": [
    {
     "data": {
      "text/plain": [
       "\"tgc\""
      ]
     },
     "execution_count": 5,
     "metadata": {},
     "output_type": "execute_result"
    }
   ],
   "source": [
    "# sample DNA sequence\n",
    "seq = Bio::Sequence::NA.new(\"atgcatgc\")\n",
    " \n",
    "# get the first symbol\n",
    "sym1 = seq.subseq(1,1)  # => \"a\"\n",
    "sym2 = seq[0]           # => 97 (ascii code for \"a\", ruby's default behavior)\n",
    " \n",
    "# get the first three bases\n",
    "seq1 = seq.subseq(1,3)  # => \"atg\"\n",
    "seq2 = seq[0,3]         # => \"atg\"\n",
    "seq3 = seq[0..2]        # => \"atg\"\n",
    " \n",
    "# get the last three bases\n",
    "seq4 = seq.subseq(seq.length - 2, seq.length)  # => \"tgc\"\n",
    "seq5 = seq[-3,3]                               # => \"tgc\", this is probably the most elegant solution\n",
    "seq6 = seq[-3..-1]                             # => \"tgc\""
   ]
  },
  {
   "cell_type": "markdown",
   "metadata": {},
   "source": [
    "### Printing a Subsequence"
   ]
  },
  {
   "cell_type": "code",
   "execution_count": 7,
   "metadata": {
    "collapsed": false
   },
   "outputs": [
    {
     "name": "stdout",
     "output_type": "stream",
     "text": [
      "tgc\n"
     ]
    }
   ],
   "source": [
    "# print the last three bases of a SymbolList or Sequence\n",
    "#  // Is the '-3' true for BioJava?\n",
    "#  String s = symL.subStr(symL.length() - 3, symL.length());\n",
    "puts seq.subseq(seq.length - 2, seq.length)"
   ]
  },
  {
   "cell_type": "markdown",
   "metadata": {},
   "source": [
    "### Complete Listing"
   ]
  },
  {
   "cell_type": "code",
   "execution_count": 8,
   "metadata": {
    "collapsed": false
   },
   "outputs": [
    {
     "name": "stdout",
     "output_type": "stream",
     "text": [
      "auu\n"
     ]
    }
   ],
   "source": [
    "require 'bio'\n",
    " \n",
    "# generate an RNA sequence\n",
    "seq = Bio::Sequence::NA.new(\"auggcaccguccagauu\")\n",
    " \n",
    "# get the first Symbol\n",
    "sym = seq.subseq(1,1)    # => \"a\"\n",
    " \n",
    "# get the first three bases\n",
    "seq2 = seq.subseq(1,3)\n",
    " \n",
    "# get the last three bases\n",
    "seq3 = seq.subseq(seq.length - 2, seq.length)\n",
    " \n",
    "# print the last three bases\n",
    "s = seq.subseq(seq.length - 2, seq.length)\n",
    "puts s"
   ]
  },
  {
   "cell_type": "markdown",
   "metadata": {},
   "source": [
    "### Iteration\n",
    "You can iterate on every subsequences easily with BioRuby."
   ]
  },
  {
   "cell_type": "markdown",
   "metadata": {},
   "source": [
    "## How do I transcribe a DNA Sequence to a RNA Sequence?\n",
    "In BioRuby, DNA and RNA sequences are stored in the same Bio::Sequence::NA class just using different Alphabets, you can convert from DNA to RNA or RNA to DNA using the rna or dna methods, respectively."
   ]
  },
  {
   "cell_type": "code",
   "execution_count": 17,
   "metadata": {
    "collapsed": false
   },
   "outputs": [
    {
     "name": "stdout",
     "output_type": "stream",
     "text": [
      "atgccgaatcgtaa\n",
      "augccgaaucguaa\n",
      "atgccgaatcgtaa\n"
     ]
    }
   ],
   "source": [
    "require 'bio'\n",
    " \n",
    "# make a DNA sequence\n",
    "dna = Bio::Sequence::NA.new(\"atgccgaatcgtaa\")\n",
    "\n",
    "# transcribe it to RNA\n",
    "rna = dna.rna\n",
    "\n",
    "# just to prove it worked\n",
    "puts dna       # => \"atgccgaatcgtaa\"\n",
    "puts rna       # => \"augccgaaucguaa\"\n",
    "\n",
    "# revert to the DNA again\n",
    "puts rna.dna   # => \"atgccgaatcgtaa\""
   ]
  },
  {
   "cell_type": "markdown",
   "metadata": {},
   "source": [
    "## How do I reverse complement a DNA or RNA Sequence?\n",
    "To reverse complement a DNA sequence simply use the complement method."
   ]
  },
  {
   "cell_type": "code",
   "execution_count": 18,
   "metadata": {
    "collapsed": false,
    "scrolled": true
   },
   "outputs": [
    {
     "name": "stdout",
     "output_type": "stream",
     "text": [
      "atgcacgggaactaa\n",
      "ttagttcccgtgcat\n"
     ]
    }
   ],
   "source": [
    "require 'bio'\n",
    " \n",
    "# make a DNA sequence\n",
    "seq = Bio::Sequence::NA.new(\"atgcacgggaactaa\")\n",
    " \n",
    "# reverse complement it\n",
    "rev = seq.complement\n",
    " \n",
    "# prove that it worked\n",
    "puts seq  # => \"atgcacgggaactaa\"\n",
    "puts rev  # => \"ttagttcccgtgcat\""
   ]
  },
  {
   "cell_type": "markdown",
   "metadata": {},
   "source": [
    "## Sequences are immutable so how can I change it's name?\n",
    "Sequences are not immutable in BioRuby - just use the freeze method to make sequence unchangable.\n",
    "## How can I edit a Sequence or SymbolList?\n",
    "Sometimes you will want to modify the order of Symbols in a sequence. For example you may wish to delete some bases, insert some bases or overwrite some bases in a DNA sequence. BioRuby's Bio::Sequence object can be edited by any methods inherited from Ruby's String class."
   ]
  },
  {
   "cell_type": "code",
   "execution_count": 2,
   "metadata": {
    "collapsed": false
   },
   "outputs": [
    {
     "name": "stdout",
     "output_type": "stream",
     "text": [
      "atggctcc\n",
      "ttatggctcc\n",
      "ttaacatggctcc\n",
      "tgggcatggctcc\n",
      "atggctcc\n",
      "aaattgctcc\n"
     ]
    }
   ],
   "source": [
    "require 'bio'\n",
    " \n",
    "# create a DNA sequence\n",
    "seq = Bio::Sequence::NA.new(\"atggct\")\n",
    " \n",
    "# add \"cc\" to the end\n",
    "seq += Bio::Sequence::NA.new(\"cc\")\n",
    " \n",
    "# should now be atggctcc\n",
    "puts seq  # => \"atggctcc\"\n",
    " \n",
    "# insert \"tt\" at the start\n",
    "seq = Bio::Sequence::NA.new(\"tt\") + seq\n",
    " \n",
    "# should now be ttatggctcc\n",
    "puts seq  # => \"ttatggctcc\"\n",
    " \n",
    "# insert \"aca\" at position 4\n",
    "seq[3,0] = Bio::Sequence::NA.new(\"aca\")\n",
    " \n",
    "# should now be ttaacatggctcc\n",
    "puts seq  # => \"ttaacatggctcc\"\n",
    " \n",
    "# overwrite at position 2, 3 bases with \"ggg\"\n",
    "seq[1,3] = Bio::Sequence::NA.new(\"ggg\")\n",
    " \n",
    "# should now be tgggcatggctcc\n",
    "puts seq  # => \"tgggcatggctcc\"\n",
    " \n",
    "# delete from the start 5 bases (overwrite 5 bases with nothing)\n",
    "seq[0,5] = \"\"\n",
    " \n",
    "# should now be atggctcc\n",
    "puts seq  # => \"atggctcc\"\n",
    " \n",
    "# now a more complex example\n",
    " \n",
    "# overwrite positions two and three with aa and then insert tt\n",
    "seq[1,2] = Bio::Sequence::NA.new(\"aa\") + Bio::Sequence::NA.new(\"tt\")\n",
    " \n",
    "# should now be aaattgctcc\n",
    "puts seq  # => \"aaattgctcc\""
   ]
  },
  {
   "cell_type": "markdown",
   "metadata": {},
   "source": [
    "# Translation\n",
    "\n",
    "## How do I translate a DNA or RNA Sequence or SymbolList to Protein?\n",
    "All you need is to call a translate method for a Bio::Sequence::NA object. In BioRuby, you don't need to convert DNA to RNA before its translation."
   ]
  },
  {
   "cell_type": "code",
   "execution_count": 4,
   "metadata": {
    "collapsed": false
   },
   "outputs": [
    {
     "name": "stdout",
     "output_type": "stream",
     "text": [
      "atggccattgaatga\n",
      "MAIE*\n"
     ]
    }
   ],
   "source": [
    "require 'bio'\n",
    " \n",
    "# create a DNA sequence\n",
    "seq = Bio::Sequence::NA.new(\"atggccattgaatga\")\n",
    " \n",
    "# translate to protein\n",
    "prot = seq.translate\n",
    " \n",
    "# prove that it worked\n",
    "puts seq   # => \"atggccattgaatga\"\n",
    "puts prot  # => \"MAIE*\""
   ]
  },
  {
   "cell_type": "markdown",
   "metadata": {},
   "source": [
    "## How do I translate a single codon to a single amino acid?\n",
    "The general translation example shows how to use the translate method of Bio::Sequence::NA object but most of what goes on is hidden behind the convenience method. If you only want to translate a single codon into a single amino acid you get exposed to a bit more of the gory detail but you also get a chance to figure out more of what is going on under the hood."
   ]
  },
  {
   "cell_type": "code",
   "execution_count": 5,
   "metadata": {
    "collapsed": false
   },
   "outputs": [
    {
     "name": "stdout",
     "output_type": "stream",
     "text": [
      "L\n"
     ]
    }
   ],
   "source": [
    "require 'bio'\n",
    " \n",
    "# make a 'codon'\n",
    "codon = Bio::Sequence::NA.new(\"uug\")\n",
    " \n",
    "# you can translate the codon as described in the previous section.\n",
    "puts codon.translate  # => \"L\""
   ]
  },
  {
   "cell_type": "markdown",
   "metadata": {},
   "source": [
    "Here's the other way"
   ]
  },
  {
   "cell_type": "code",
   "execution_count": 6,
   "metadata": {
    "collapsed": false
   },
   "outputs": [
    {
     "name": "stdout",
     "output_type": "stream",
     "text": [
      "L\n"
     ]
    }
   ],
   "source": [
    "require 'bio'\n",
    " \n",
    "# make a 'codon'\n",
    "codon = Bio::Sequence::NA.new(\"uug\")\n",
    " \n",
    "# select the standard codon table\n",
    "codon_table = Bio::CodonTable[1]\n",
    " \n",
    "# You need to convert RNA codon to DNA alphabets because the\n",
    "# CodonTable in BioRuby is implemented as a static Hash with keys\n",
    "# expressed in DNA alphabets (not RNA alphabets).\n",
    "codon2 = codon.dna\n",
    " \n",
    "# get the representation of that codon and translate to amino acid.\n",
    "amino_acid = codon_table[codon2]\n",
    "puts amino_acid        # => \"L\""
   ]
  },
  {
   "cell_type": "markdown",
   "metadata": {},
   "source": [
    "## How do I use a non standard translation table?\n",
    "The convenient translate method in Bio::Sequence::NA, used in the general translation example, is not limited to use the \"Universal\" translation table. The translate method also accepts a translation starting frame and a codon table number as its arguments.\n",
    "The following translation tables are available:\n",
    "\n",
    "1. - Standard (Eukaryote)\n",
    "2. - Vertebrate Mitochondrial\n",
    "3. - Yeast mitochondorial\n",
    "4. - Mold, Protozoan, Coelenterate Mitochondrial and Mycoplasma/Spiroplasma\n",
    "5. - Invertebrate Mitochondrial\n",
    "6. - Ciliate Macronuclear and Dasycladacean\n",
    "9. - Echinoderm Mitochondrial\n",
    "10. - Euplotid Nuclear\n",
    "11. - Bacteria\n",
    "12. - Alternative Yeast Nuclear\n",
    "13. - Ascidian Mitochondrial\n",
    "14. - Flatworm Mitochondrial\n",
    "15. - Blepharisma Macronuclear\n",
    "16. - Chlorophycean Mitochondrial\n",
    "21. - Trematode Mitochondrial\n",
    "22. - Scenedesmus obliquus mitochondrial\n",
    "23. - Thraustochytrium Mitochondrial Code\n",
    "\n",
    "The following program shows the use of the Euplotid Nuclear translation table (where UGA = Cys)."
   ]
  },
  {
   "cell_type": "code",
   "execution_count": 7,
   "metadata": {
    "collapsed": false
   },
   "outputs": [
    {
     "name": "stdout",
     "output_type": "stream",
     "text": [
      "MGPCKGLE*\n",
      "MGP*KGLE*\n"
     ]
    }
   ],
   "source": [
    "require 'bio'\n",
    " \n",
    "# make a DNA sequence including the 'tga' codon\n",
    "seq = Bio::Sequence::NA.new(\"atgggcccatgaaaaggcttggagtaa\")\n",
    " \n",
    "# translate from the frame 1 with codon table 10 (Euplotid Nuclear)\n",
    "protein = seq.translate(1, 10)\n",
    " \n",
    "# print out the protein\n",
    "puts protein        # => \"MGPCKGLE*\"\n",
    " \n",
    "# compared to the universal translation table\n",
    "puts seq.translate  # => \"MGP*KGLE*\""
   ]
  },
  {
   "cell_type": "markdown",
   "metadata": {},
   "source": [
    "## How do I translate a nucleotide sequence in all six frames?"
   ]
  },
  {
   "cell_type": "code",
   "execution_count": 8,
   "metadata": {
    "collapsed": false
   },
   "outputs": [
    {
     "name": "stdout",
     "output_type": "stream",
     "text": [
      "{1=>\"MGP*KGLE*\", 2=>\"WAHEKAWS\", 3=>\"GPMKRLGV\", 4=>\"LLQAFSWAH\", 5=>\"YSKPFHGP\", 6=>\"TPSLFMGP\"}\n"
     ]
    }
   ],
   "source": [
    "require 'bio'\n",
    " \n",
    "# Create an empty hash to place the results within\n",
    "data = Hash.new\n",
    " \n",
    "seq = Bio::Sequence::NA.new(\"atgggcccatgaaaaggcttggagtaa\")\n",
    " \n",
    "(1..6).each do |frame|\n",
    "  # Store the results within the data hash\n",
    "  data[frame] = seq.translate(frame)\n",
    "end\n",
    " \n",
    "# Print the data hash\n",
    "puts data # => {1=>\"MGP*KGLE*\", 2=>\"WAHEKAWS\", 3=>\"GPMKRLGV\", 4=>\"LLQAFSWAH\", 5=>\"YSKPFHGP\", 6=>\"TPSLFMGP\"}"
   ]
  },
  {
   "cell_type": "markdown",
   "metadata": {},
   "source": [
    "# Sequence I/O\n",
    "\n",
    "## How do I write Sequences in Fasta format?\n",
    "FASTA format is a fairly standard bioinformatics output that is convenient and easy to read. BioRuby's Sequence class has a to_fasta method for formatting sequence in FASTA format.\n",
    "Printing any Bio::Sequence sequence object in FASTA format."
   ]
  },
  {
   "cell_type": "code",
   "execution_count": 9,
   "metadata": {
    "collapsed": false
   },
   "outputs": [
    {
     "name": "stdout",
     "output_type": "stream",
     "text": [
      ">testseq\n",
      "aatgacccgtaatgacccgtaatgacccgtaatgacccgtaatgacccgtaatgacccgt\n",
      "aatgacccgtaatgacccgtaatgacccgtaatgacccgt\n",
      "\n"
     ]
    }
   ],
   "source": [
    "require 'bio'\n",
    " \n",
    "# Generates a sample 100bp sequence.\n",
    "seq1 = Bio::Sequence::NA.new(\"aatgacccgt\" * 10)\n",
    " \n",
    "# Naming this sequence as \"testseq\" and print in FASTA format\n",
    "# (folded by 60 chars per line).\n",
    "puts seq1.to_fasta(\"testseq\", 60)"
   ]
  },
  {
   "cell_type": "markdown",
   "metadata": {},
   "source": [
    "# Counts and Distributions\n",
    "\n",
    "## How do I count the residues in a Sequence?"
   ]
  },
  {
   "cell_type": "code",
   "execution_count": 11,
   "metadata": {
    "collapsed": false
   },
   "outputs": [
    {
     "name": "stdout",
     "output_type": "stream",
     "text": [
      "a:6\n",
      "t:2\n",
      "g:2\n",
      "c:2\n"
     ]
    },
    {
     "data": {
      "text/plain": [
       "{\"a\"=>6, \"t\"=>2, \"g\"=>2, \"c\"=>2}"
      ]
     },
     "execution_count": 11,
     "metadata": {},
     "output_type": "execute_result"
    }
   ],
   "source": [
    "require 'bio'\n",
    " \n",
    "seq = Bio::Sequence::NA.new(\"atgcatgcaaaa\")\n",
    "seq.composition.each do |nuc, count|\n",
    "  puts \"#{nuc}:#{count}\"\n",
    "end"
   ]
  },
  {
   "cell_type": "markdown",
   "metadata": {},
   "source": [
    "## How can I turn a Count into a Distribution?\n",
    "Using a function."
   ]
  },
  {
   "cell_type": "code",
   "execution_count": 12,
   "metadata": {
    "collapsed": false
   },
   "outputs": [
    {
     "name": "stdout",
     "output_type": "stream",
     "text": [
      "\"atgcatgcaaaa\"\n",
      "{\"a\"=>6, \"t\"=>2, \"g\"=>2, \"c\"=>2}\n",
      "{\"a\"=>0.5, \"t\"=>0.16666666666666666, \"g\"=>0.16666666666666666, \"c\"=>0.16666666666666666}\n"
     ]
    },
    {
     "data": {
      "text/plain": [
       "{\"a\"=>0.5, \"t\"=>0.16666666666666666, \"g\"=>0.16666666666666666, \"c\"=>0.16666666666666666}"
      ]
     },
     "execution_count": 12,
     "metadata": {},
     "output_type": "execute_result"
    }
   ],
   "source": [
    "require 'bio'\n",
    " \n",
    "def distr(seq)\n",
    "  l=seq.length.to_f\n",
    "  dist={}\n",
    "  seq.composition.each do |nuc, count|\n",
    "    dist[nuc]=count/l.to_f\n",
    "  end\n",
    "  return dist\n",
    "end\n",
    " \n",
    "seq = Bio::Sequence::NA.new(\"atgcatgcaaaa\")\n",
    " \n",
    "p seq\n",
    "p seq.composition\n",
    "p distr(seq)"
   ]
  },
  {
   "cell_type": "markdown",
   "metadata": {},
   "source": [
    "Using a class method."
   ]
  },
  {
   "cell_type": "code",
   "execution_count": 13,
   "metadata": {
    "collapsed": false
   },
   "outputs": [
    {
     "name": "stdout",
     "output_type": "stream",
     "text": [
      "\"atgcatgcaaaa\"\n",
      "{\"a\"=>6, \"t\"=>2, \"g\"=>2, \"c\"=>2}\n",
      "{\"a\"=>0.5, \"t\"=>0.16666666666666666, \"g\"=>0.16666666666666666, \"c\"=>0.16666666666666666}\n"
     ]
    },
    {
     "data": {
      "text/plain": [
       "{\"a\"=>0.5, \"t\"=>0.16666666666666666, \"g\"=>0.16666666666666666, \"c\"=>0.16666666666666666}"
      ]
     },
     "execution_count": 13,
     "metadata": {},
     "output_type": "execute_result"
    }
   ],
   "source": [
    "require 'bio'\n",
    " \n",
    "class Bio::Sequence::NA\n",
    "  def distribution\n",
    "    length=self.length.to_f\n",
    "    dist={}\n",
    "    self.composition.each do |nuc, count|\n",
    "      dist[nuc]=count/length\n",
    "    end\n",
    "    dist\n",
    "  end\n",
    "end\n",
    " \n",
    "seq = Bio::Sequence::NA.new(\"atgcatgcaaaa\")\n",
    " \n",
    "p seq\n",
    "p seq.composition\n",
    "p seq.distribution"
   ]
  },
  {
   "cell_type": "markdown",
   "metadata": {},
   "source": [
    "# Disclaimer\n",
    "\n",
    "This code is generously donated by people who probably have better things to do. Where possible we test it but errors may have crept in. As such, all code and advice here in has no warranty or guarantee of any sort. You didn't pay for it and if you use it we are not responsible for anything that goes wrong. Be a good programmer and test it yourself before unleashing it on your corporate database.\n",
    "\n",
    "# Copyright\n",
    "\n",
    "The documentation on this site is the property of the people who contributed it. If you wish to use it in a publication please make a request through the BioRuby mailing list.The original version was based on the 'BioJava in Anger' document by Mark Schreider et al.\n",
    "The code is open-source. A good definition of open-source can be found here. If you agree with that definition then you can use it."
   ]
  },
  {
   "cell_type": "code",
   "execution_count": null,
   "metadata": {
    "collapsed": true
   },
   "outputs": [],
   "source": []
  }
 ],
 "metadata": {
  "kernelspec": {
   "display_name": "Ruby 2.1.5",
   "language": "ruby",
   "name": "ruby"
  },
  "language_info": {
   "file_extension": ".rb",
   "mimetype": "application/x-ruby",
   "name": "ruby",
   "version": "2.1.5"
  }
 },
 "nbformat": 4,
 "nbformat_minor": 0
}
